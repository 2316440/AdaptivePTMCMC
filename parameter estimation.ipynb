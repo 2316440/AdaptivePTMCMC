{
 "cells": [
  {
   "cell_type": "code",
   "execution_count": null,
   "metadata": {},
   "outputs": [],
   "source": [
    "from interferometer import Interferometer\n",
    "from interferometer import Network\n",
    "from scipy.interpolate import interp1d\n",
    "import numpy as np\n",
    "import gw\n",
    "from matplotlib import pyplot as pl\n",
    "import corner\n",
    "import pickle\n",
    "%matplotlib inline"
   ]
  },
  {
   "cell_type": "code",
   "execution_count": null,
   "metadata": {},
   "outputs": [],
   "source": [
    "f_min = 20. #minimum frequency cut-off\n",
    "T = 8.  #data segment duration (8 seconds)\n",
    "Fs = 2048 #samplingfrequency  (Hz)\n",
    "t_start = 1126259446. #strain data segment start time \n",
    "# since signals are generated in frequency domain this time is only used for calculating time dealys and hence is set to t_coalsecence\n",
    "\n",
    "#initialise the detectors\n",
    "H1 = Interferometer('H1','O3',f_min,T,Fs,t_start,20011997)\n",
    "L1 = Interferometer('L1','O3',f_min,T,Fs,t_start,27071994)\n",
    "\n",
    "#initialise the detector network\n",
    "detectors = [H1,L1]\n",
    "network=Network(detectors)"
   ]
  },
  {
   "cell_type": "code",
   "execution_count": null,
   "metadata": {},
   "outputs": [],
   "source": [
    "#set injection parameters\n",
    "SNR=30 #choose signal SNR\n",
    "distance_given_snr = pickle.load( open( \"distance_given_snr.p\", \"rb\" ) )\n",
    "d=distance_given_snr(SNR) #find corresponding luminosity distance\n",
    "\n",
    "truths=[20.,10.,d, np.pi/4.,1126259446.,0.6,4.5,-0.5]  #injection parameters ('m1','m2','dl','iota','t0','psi','ra','dec')\n",
    "\n",
    "hfs = gw.model(truths, detectors) #get model & apply detector response & delays\n",
    "\n",
    "#inject signals into detectors\n",
    "for det in detectors:\n",
    "    det.inject_signal_into_noise(hfs[det.name])      \n",
    "    det.plot_signal() \n",
    "\n",
    "#check network snr\n",
    "network.snr()"
   ]
  },
  {
   "cell_type": "code",
   "execution_count": null,
   "metadata": {},
   "outputs": [],
   "source": [
    "# set cosmological distance prior\n",
    "H_0=67.4\n",
    "Omega_m=0.315\n",
    "prior_dl=gw.cosmo_distance_prior(H_0, Omega_m)"
   ]
  },
  {
   "cell_type": "code",
   "execution_count": null,
   "metadata": {},
   "outputs": [],
   "source": [
    "#define the logprior\n",
    "def logprior(theta,theta_min,theta_max):\n",
    "\n",
    "    M,q,dl,iota,t0, psi, ra, dec  = theta\n",
    "    m1, m2 = gw.q_M_to_m1m2(q,M)\n",
    "    if gw.flatlogprior([m1,m2,dl,iota,t0,psi,ra,dec],theta_min,theta_max) == -np.inf:\n",
    "        return -np.inf\n",
    "    else:\n",
    "        p1=gw.prior_q_M(q,M)\n",
    "        p2=prior_dl(dl)\n",
    "        p3=gw.prior_dec(dec)\n",
    "        p4=gw.prior_iota(iota)\n",
    "        \n",
    "        if p1==0 or p2==0 or p3==0 or p4==0:\n",
    "            return -np.inf     # if outside the bounds return probability = 0 (log-prob = -infinity)\n",
    "        else: \n",
    "            return np.log(p1*p2*p3*p4)"
   ]
  },
  {
   "cell_type": "code",
   "execution_count": null,
   "metadata": {},
   "outputs": [],
   "source": [
    "#define the logposterior (phase marginalised)\n",
    "def logprob(theta,theta_min, theta_max, T):\n",
    "\n",
    "    M,q,dl,iota,t0, psi, ra, dec = theta\n",
    "\n",
    "    logp = logprior(theta,theta_min,theta_max)\n",
    "    \n",
    "    if logp == -np.inf:\n",
    "        return logp\n",
    "    else:\n",
    "        m1,m2 = gw.q_M_to_m1m2(q,M)\n",
    "        model = gw.model([m1,m2,dl,iota,t0,psi,ra,dec], detectors)\n",
    "        likelihood = network.network_phase_marg_loglikelihood(model)\n",
    "        return (1/T)*likelihood + logp"
   ]
  },
  {
   "cell_type": "code",
   "execution_count": null,
   "metadata": {},
   "outputs": [],
   "source": [
    "#define the loglikelihood (phase marginalised)\n",
    "def logL(theta):\n",
    "    M,q,dl,iota,t0, psi, ra, dec = theta\n",
    "    m1,m2=gw.q_M_to_m1m2(q,M)\n",
    "    \n",
    "    model = gw.model([m1,m2,dl,iota,t0,psi,ra,dec], detectors)\n",
    "    \n",
    "    return network.network_phase_marg_loglikelihood(model)"
   ]
  },
  {
   "cell_type": "code",
   "execution_count": null,
   "metadata": {},
   "outputs": [],
   "source": [
    "#intialise the prior bounds, sample starting location, sampling parameters\n",
    "\n",
    "M=gw.chirp_mass(20.,10.)\n",
    "q=gw.q(20.,10.)\n",
    "\n",
    "theta = [M,q,d,np.pi/4.,1126259446.,0.6,4.5,-0.5] #theta_start ('M','q','dl','iota','t0','psi','ra','dec')\n",
    "theta_min=np.array([15.,6.,0.,0.,1126259446.-0.05,0.,0.,-np.pi/2])\n",
    "theta_max=np.array([25.,15.,5000.,np.pi/2.,1126259446.+0.05,np.pi,2*np.pi,np.pi/2])\n",
    "Q = [0.0001,0.001,200.,0.01,0.0001,0.01,0.01,0.01]  # the initial diagonal covariance matrix for the proposal distribution \n",
    "\n",
    "Mstart = gw.chirp_mass(18.,8.)\n",
    "theta_start = [Mstart,18/8,2000.,0.5,1126259446.+0.02,0.,0.,0.]     # the start location in the parameter space\n",
    "\n",
    "temps=np.logspace(0,3,8)  #temperatures"
   ]
  },
  {
   "cell_type": "code",
   "execution_count": null,
   "metadata": {},
   "outputs": [],
   "source": [
    "import ptmcmc"
   ]
  },
  {
   "cell_type": "code",
   "execution_count": null,
   "metadata": {},
   "outputs": [],
   "source": [
    "%%time\n",
    "n=1000000  #total number of posterior samples\n",
    "nswap=100   #propose swaps between tempered chains every n samples\n",
    "\n",
    "#run posterior sampling with the Adaptive PTMCMC\n",
    "samples, infodict = ptmcmc.parallel_tempering(logprob, logL, n, nswap, temps, Q, theta_min, theta_max, theta_start, swap=True, adapt=True, infs=True)"
   ]
  },
  {
   "cell_type": "code",
   "execution_count": null,
   "metadata": {},
   "outputs": [],
   "source": [
    "#plot corner plot\n",
    "figure = corner.corner(samples[1][:],labels=[r\"$ \\mathcal{M}$\", r\"q\", r\"$D_L$\", r\"$\\iota$\",r\"t\",r\"$\\psi$\",r\"RA\",r\"Dec\"],\n",
    "                       truths=theta, \n",
    "                       show_titles=True, title_kwargs={\"fontsize\": 12})       "
   ]
  }
 ],
 "metadata": {
  "kernelspec": {
   "display_name": "GravWaves",
   "language": "python",
   "name": "gravwaves"
  },
  "language_info": {
   "codemirror_mode": {
    "name": "ipython",
    "version": 3
   },
   "file_extension": ".py",
   "mimetype": "text/x-python",
   "name": "python",
   "nbconvert_exporter": "python",
   "pygments_lexer": "ipython3",
   "version": "3.6.8"
  }
 },
 "nbformat": 4,
 "nbformat_minor": 4
}
